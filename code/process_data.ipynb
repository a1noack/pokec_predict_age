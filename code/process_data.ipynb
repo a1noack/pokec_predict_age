{
 "cells": [
  {
   "cell_type": "code",
   "execution_count": 290,
   "metadata": {},
   "outputs": [
    {
     "name": "stdout",
     "output_type": "stream",
     "text": [
      "The autoreload extension is already loaded. To reload it, use:\n",
      "  %reload_ext autoreload\n"
     ]
    },
    {
     "name": "stderr",
     "output_type": "stream",
     "text": [
      "[nltk_data] Downloading package punkt to /Users/adamnoack/nltk_data...\n",
      "[nltk_data]   Unzipping tokenizers/punkt.zip.\n"
     ]
    }
   ],
   "source": [
    "import pandas as pd\n",
    "import numpy as np\n",
    "from googletrans import Translator\n",
    "import copy\n",
    "# import stuff\n",
    "%load_ext autoreload\n",
    "%autoreload 2\n",
    "%matplotlib inline\n",
    "\n",
    "from random import randint\n",
    "import torch\n",
    "import os\n",
    "import time\n",
    "import nltk\n",
    "nltk.download('punkt')\n",
    "\n",
    "os.chdir('../InferSent/')\n",
    "from models import InferSent"
   ]
  },
  {
   "cell_type": "markdown",
   "metadata": {},
   "source": [
    "### Load the profiles and edges information into two dataframes"
   ]
  },
  {
   "cell_type": "code",
   "execution_count": 129,
   "metadata": {},
   "outputs": [
    {
     "name": "stderr",
     "output_type": "stream",
     "text": [
      "/Users/adamnoack/anaconda/envs/hack/lib/python3.5/site-packages/IPython/core/interactiveshell.py:2728: DtypeWarning: Columns (0) have mixed types. Specify dtype option on import or set low_memory=False.\n",
      "  interactivity=interactivity, compiler=compiler, result=result)\n"
     ]
    }
   ],
   "source": [
    "columns = ['user_id', 'public', 'completion_percentage', 'gender', 'region', 'last_login', 'registration', 'age', 'body',\n",
    "    'I_am_working_in_field', 'spoken_languages', 'hobbies', 'I_most_enjoy_good_food', 'pets', 'body_type', 'my_eyesight',\n",
    "    'eye_color', 'hair_color', 'hair_type', 'completed_level_of_education', 'favourite_color', 'relation_to_smoking',\n",
    "    'relation_to_alcohol', 'sign_in_zodiac', 'on_pokec_i_am_looking_for', 'love_is_for_me', 'relation_to_casual_sex',\n",
    "    'my_partner_should_be', 'marital_status', 'children', 'relation_to_children', 'I_like_movies', 'I_like_watching_movie',\n",
    "    'I_like_music', 'I_mostly_like_listening_to_music', 'the_idea_of_good_evening', 'I_like_specialties_from_kitchen',\n",
    "    'fun', 'I_am_going_to_concerts', 'my_active_sports', 'my_passive_sports', 'profession', 'I_like_books', 'life_style',\n",
    "    'music', 'cars', 'politics', 'relationships', 'art_culture', 'hobbies_interests', 'science_technologies',\n",
    "    'computers_internet', 'education', 'sport', 'movies', 'travelling', 'health', 'companies_brands', 'more', 'huh']\n",
    "\n",
    "profiles = pd.read_csv('../data/pokec/soc-pokec-profiles.txt', sep='\\t', names=columns)\n",
    "edges = pd.read_csv('../data/pokec/soc-pokec-relationships.txt', sep='\\t', names=['source', 'destination'])"
   ]
  },
  {
   "cell_type": "markdown",
   "metadata": {},
   "source": [
    "### Remove unwanted columns and drop those rows that have NaN values for the columns we care about and create aggregate sentence feature"
   ]
  },
  {
   "cell_type": "code",
   "execution_count": 266,
   "metadata": {},
   "outputs": [
    {
     "data": {
      "text/html": [
       "<div>\n",
       "<style scoped>\n",
       "    .dataframe tbody tr th:only-of-type {\n",
       "        vertical-align: middle;\n",
       "    }\n",
       "\n",
       "    .dataframe tbody tr th {\n",
       "        vertical-align: top;\n",
       "    }\n",
       "\n",
       "    .dataframe thead th {\n",
       "        text-align: right;\n",
       "    }\n",
       "</style>\n",
       "<table border=\"1\" class=\"dataframe\">\n",
       "  <thead>\n",
       "    <tr style=\"text-align: right;\">\n",
       "      <th></th>\n",
       "      <th>user_id</th>\n",
       "      <th>age</th>\n",
       "      <th>gender</th>\n",
       "      <th>agg_sent</th>\n",
       "    </tr>\n",
       "  </thead>\n",
       "  <tbody>\n",
       "    <tr>\n",
       "      <th>0</th>\n",
       "      <td>16</td>\n",
       "      <td>23.0</td>\n",
       "      <td>1.0</td>\n",
       "      <td>take co ma uputaju cestovanie, pocuvanie hudby...</td>\n",
       "    </tr>\n",
       "    <tr>\n",
       "      <th>1</th>\n",
       "      <td>32</td>\n",
       "      <td>21.0</td>\n",
       "      <td>1.0</td>\n",
       "      <td>akcne, horory, komedie, serialy, dokumentarne,...</td>\n",
       "    </tr>\n",
       "    <tr>\n",
       "      <th>2</th>\n",
       "      <td>46</td>\n",
       "      <td>21.0</td>\n",
       "      <td>0.0</td>\n",
       "      <td>horory, komedie, romanticke, serialy, rodinne ...</td>\n",
       "    </tr>\n",
       "  </tbody>\n",
       "</table>\n",
       "</div>"
      ],
      "text/plain": [
       "  user_id   age  gender                                           agg_sent\n",
       "0      16  23.0     1.0  take co ma uputaju cestovanie, pocuvanie hudby...\n",
       "1      32  21.0     1.0  akcne, horory, komedie, serialy, dokumentarne,...\n",
       "2      46  21.0     0.0  horory, komedie, romanticke, serialy, rodinne ..."
      ]
     },
     "execution_count": 266,
     "metadata": {},
     "output_type": "execute_result"
    }
   ],
   "source": [
    "sentence_vars = ['I_like_movies', 'hobbies', 'children', 'profession']\n",
    "numerical_vars = ['user_id', 'age','gender']\n",
    "\n",
    "profiles_ss = profiles[numerical_vars + sentence_vars]\n",
    "profiles_ss = profiles_ss.dropna()\n",
    "profiles_ss = profiles_ss[(profiles_ss.age > 5) & (profiles_ss.age < 75)].reset_index(drop=True)\n",
    "\n",
    "profiles_ss['agg_sent'] = profiles_ss['I_like_movies'] + ' ' + profiles_ss['hobbies'] + ' ' + profiles_ss['children'] + ' ' + profiles_ss['profession']\n",
    "profiles_ss = profiles_ss.drop(sentence_vars, axis=1)\n",
    "\n",
    "profiles_ss.head(3)"
   ]
  },
  {
   "cell_type": "code",
   "execution_count": 416,
   "metadata": {},
   "outputs": [
    {
     "data": {
      "text/html": [
       "<div>\n",
       "<style scoped>\n",
       "    .dataframe tbody tr th:only-of-type {\n",
       "        vertical-align: middle;\n",
       "    }\n",
       "\n",
       "    .dataframe tbody tr th {\n",
       "        vertical-align: top;\n",
       "    }\n",
       "\n",
       "    .dataframe thead th {\n",
       "        text-align: right;\n",
       "    }\n",
       "</style>\n",
       "<table border=\"1\" class=\"dataframe\">\n",
       "  <thead>\n",
       "    <tr style=\"text-align: right;\">\n",
       "      <th></th>\n",
       "      <th>user_id</th>\n",
       "      <th>public</th>\n",
       "      <th>completion_percentage</th>\n",
       "      <th>gender</th>\n",
       "      <th>region</th>\n",
       "      <th>last_login</th>\n",
       "      <th>registration</th>\n",
       "      <th>age</th>\n",
       "      <th>body</th>\n",
       "      <th>I_am_working_in_field</th>\n",
       "      <th>...</th>\n",
       "      <th>science_technologies</th>\n",
       "      <th>computers_internet</th>\n",
       "      <th>education</th>\n",
       "      <th>sport</th>\n",
       "      <th>movies</th>\n",
       "      <th>travelling</th>\n",
       "      <th>health</th>\n",
       "      <th>companies_brands</th>\n",
       "      <th>more</th>\n",
       "      <th>huh</th>\n",
       "    </tr>\n",
       "  </thead>\n",
       "  <tbody>\n",
       "    <tr>\n",
       "      <th>0</th>\n",
       "      <td>s1</td>\n",
       "      <td>1</td>\n",
       "      <td>14</td>\n",
       "      <td>1.0</td>\n",
       "      <td>zilinsky kraj, zilina</td>\n",
       "      <td>2012-05-25 11:20:00.0</td>\n",
       "      <td>2005-04-03 00:00:00.0</td>\n",
       "      <td>26.0</td>\n",
       "      <td>185 cm, 90 kg</td>\n",
       "      <td>it</td>\n",
       "      <td>...</td>\n",
       "      <td>NaN</td>\n",
       "      <td>NaN</td>\n",
       "      <td>NaN</td>\n",
       "      <td>NaN</td>\n",
       "      <td>NaN</td>\n",
       "      <td>NaN</td>\n",
       "      <td>NaN</td>\n",
       "      <td>NaN</td>\n",
       "      <td>NaN</td>\n",
       "      <td>NaN</td>\n",
       "    </tr>\n",
       "    <tr>\n",
       "      <th>1</th>\n",
       "      <td>2</td>\n",
       "      <td>1</td>\n",
       "      <td>62</td>\n",
       "      <td>0.0</td>\n",
       "      <td>zilinsky kraj, kysucke nove mesto</td>\n",
       "      <td>2012-05-25 23:08:00.0</td>\n",
       "      <td>2007-11-30 00:00:00.0</td>\n",
       "      <td>0.0</td>\n",
       "      <td>166 cm, 58 kg</td>\n",
       "      <td>NaN</td>\n",
       "      <td>...</td>\n",
       "      <td>NaN</td>\n",
       "      <td>NaN</td>\n",
       "      <td>NaN</td>\n",
       "      <td>NaN</td>\n",
       "      <td>NaN</td>\n",
       "      <td>NaN</td>\n",
       "      <td>NaN</td>\n",
       "      <td>NaN</td>\n",
       "      <td>NaN</td>\n",
       "      <td>NaN</td>\n",
       "    </tr>\n",
       "    <tr>\n",
       "      <th>2</th>\n",
       "      <td>16</td>\n",
       "      <td>1</td>\n",
       "      <td>64</td>\n",
       "      <td>1.0</td>\n",
       "      <td>zilinsky kraj, kysucke nove mesto</td>\n",
       "      <td>2012-05-25 23:19:40.0</td>\n",
       "      <td>2008-05-18 00:00:00.0</td>\n",
       "      <td>23.0</td>\n",
       "      <td>173 cm, 70 kg</td>\n",
       "      <td>najvatcsej firme na svete urad prace</td>\n",
       "      <td>...</td>\n",
       "      <td>NaN</td>\n",
       "      <td>NaN</td>\n",
       "      <td>NaN</td>\n",
       "      <td>NaN</td>\n",
       "      <td>NaN</td>\n",
       "      <td>NaN</td>\n",
       "      <td>NaN</td>\n",
       "      <td>NaN</td>\n",
       "      <td>NaN</td>\n",
       "      <td>NaN</td>\n",
       "    </tr>\n",
       "  </tbody>\n",
       "</table>\n",
       "<p>3 rows × 60 columns</p>\n",
       "</div>"
      ],
      "text/plain": [
       "  user_id  public  completion_percentage  gender  \\\n",
       "0      s1       1                     14     1.0   \n",
       "1       2       1                     62     0.0   \n",
       "2      16       1                     64     1.0   \n",
       "\n",
       "                              region             last_login  \\\n",
       "0              zilinsky kraj, zilina  2012-05-25 11:20:00.0   \n",
       "1  zilinsky kraj, kysucke nove mesto  2012-05-25 23:08:00.0   \n",
       "2  zilinsky kraj, kysucke nove mesto  2012-05-25 23:19:40.0   \n",
       "\n",
       "            registration   age           body  \\\n",
       "0  2005-04-03 00:00:00.0  26.0  185 cm, 90 kg   \n",
       "1  2007-11-30 00:00:00.0   0.0  166 cm, 58 kg   \n",
       "2  2008-05-18 00:00:00.0  23.0  173 cm, 70 kg   \n",
       "\n",
       "                  I_am_working_in_field ... science_technologies  \\\n",
       "0                                    it ...                  NaN   \n",
       "1                                   NaN ...                  NaN   \n",
       "2  najvatcsej firme na svete urad prace ...                  NaN   \n",
       "\n",
       "  computers_internet education sport movies travelling health  \\\n",
       "0                NaN       NaN   NaN    NaN        NaN    NaN   \n",
       "1                NaN       NaN   NaN    NaN        NaN    NaN   \n",
       "2                NaN       NaN   NaN    NaN        NaN    NaN   \n",
       "\n",
       "  companies_brands more huh  \n",
       "0              NaN  NaN NaN  \n",
       "1              NaN  NaN NaN  \n",
       "2              NaN  NaN NaN  \n",
       "\n",
       "[3 rows x 60 columns]"
      ]
     },
     "execution_count": 416,
     "metadata": {},
     "output_type": "execute_result"
    }
   ],
   "source": [
    "profiles.head(3)"
   ]
  },
  {
   "cell_type": "markdown",
   "metadata": {},
   "source": [
    "### Reduce dataset size"
   ]
  },
  {
   "cell_type": "code",
   "execution_count": 267,
   "metadata": {},
   "outputs": [],
   "source": [
    "# don't shuffle, because the smaller profile_1.user_id - profile_2.user_id is, the more likely \n",
    "# it is that profile_1 and profile_2 are friends\n",
    "shuffle = False"
   ]
  },
  {
   "cell_type": "code",
   "execution_count": 268,
   "metadata": {},
   "outputs": [
    {
     "name": "stdout",
     "output_type": "stream",
     "text": [
      "original number of samples: 174,483\n",
      "new number of samples: 33,876\n"
     ]
    },
    {
     "data": {
      "text/html": [
       "<div>\n",
       "<style scoped>\n",
       "    .dataframe tbody tr th:only-of-type {\n",
       "        vertical-align: middle;\n",
       "    }\n",
       "\n",
       "    .dataframe tbody tr th {\n",
       "        vertical-align: top;\n",
       "    }\n",
       "\n",
       "    .dataframe thead th {\n",
       "        text-align: right;\n",
       "    }\n",
       "</style>\n",
       "<table border=\"1\" class=\"dataframe\">\n",
       "  <thead>\n",
       "    <tr style=\"text-align: right;\">\n",
       "      <th></th>\n",
       "      <th>user_id</th>\n",
       "      <th>age</th>\n",
       "      <th>gender</th>\n",
       "      <th>agg_sent</th>\n",
       "    </tr>\n",
       "  </thead>\n",
       "  <tbody>\n",
       "    <tr>\n",
       "      <th>1020</th>\n",
       "      <td>7209</td>\n",
       "      <td>23.0</td>\n",
       "      <td>1.0</td>\n",
       "      <td>neviem nemam na ne cas ale uz ked tak mam rad ...</td>\n",
       "    </tr>\n",
       "    <tr>\n",
       "      <th>1021</th>\n",
       "      <td>7226</td>\n",
       "      <td>14.0</td>\n",
       "      <td>1.0</td>\n",
       "      <td>michael jackson velmi rad pocuvam michaela jac...</td>\n",
       "    </tr>\n",
       "    <tr>\n",
       "      <th>1022</th>\n",
       "      <td>7210</td>\n",
       "      <td>18.0</td>\n",
       "      <td>0.0</td>\n",
       "      <td>akcne, komedie, serialy pocuvanie hudby, tanco...</td>\n",
       "    </tr>\n",
       "  </tbody>\n",
       "</table>\n",
       "</div>"
      ],
      "text/plain": [
       "     user_id   age  gender                                           agg_sent\n",
       "1020    7209  23.0     1.0  neviem nemam na ne cas ale uz ked tak mam rad ...\n",
       "1021    7226  14.0     1.0  michael jackson velmi rad pocuvam michaela jac...\n",
       "1022    7210  18.0     0.0  akcne, komedie, serialy pocuvanie hudby, tanco..."
      ]
     },
     "execution_count": 268,
     "metadata": {},
     "output_type": "execute_result"
    }
   ],
   "source": [
    "# fraction of data to use\n",
    "fraction = 1/5\n",
    "\n",
    "num_samples = len(profiles_ss.index)\n",
    "print(\"original number of samples: {:,}\".format(num_samples))\n",
    "\n",
    "# save profiles_ss to pickle file\n",
    "profiles_ss.to_pickle('../data/pokec_cleaned/profiles_ss.pkl')\n",
    "\n",
    "#shuffle rows of profiles_ss. essentially randomly sampling\n",
    "if shuffle:\n",
    "    profiles_ss = profiles_ss.sample(frac=1).reset_index(drop=True)\n",
    "\n",
    "# retain only a fraction of the original data\n",
    "profiles_ss = profiles_ss[:int(num_samples*fraction)]\n",
    "\n",
    "profiles_ss = profiles_ss[1020:]\n",
    "\n",
    "num_samples = len(profiles_ss.index)\n",
    "print(\"new number of samples: {:,}\".format(num_samples))\n",
    "\n",
    "profiles_ss.head(3)"
   ]
  },
  {
   "cell_type": "markdown",
   "metadata": {},
   "source": [
    "### Translate the sentences in the agg_sent column of the dataframe"
   ]
  },
  {
   "cell_type": "code",
   "execution_count": 269,
   "metadata": {},
   "outputs": [
    {
     "name": "stdout",
     "output_type": "stream",
     "text": [
      "number of sentences per translator.translate call: 33\n"
     ]
    }
   ],
   "source": [
    "split_amt = 1000\n",
    "segment_len = int(num_samples/split_amt)\n",
    "\n",
    "# if true, save the new dataframe\n",
    "save = True\n",
    "\n",
    "print(\"number of sentences per translator.translate call: {:,}\".format(segment_len))"
   ]
  },
  {
   "cell_type": "code",
   "execution_count": 270,
   "metadata": {},
   "outputs": [
    {
     "name": "stdout",
     "output_type": "stream",
     "text": [
      "Expecting value: line 1 column 1 (char 0)\n",
      "exiting for loop\n"
     ]
    }
   ],
   "source": [
    "agg_sent = list(profiles_ss['agg_sent'])\n",
    "\n",
    "translations_text = []\n",
    "for i in range(split_amt):\n",
    "    translator = Translator()\n",
    "    try:\n",
    "        if i < split_amt - 1:\n",
    "            translations = translator.translate(agg_sent[i*segment_len:(i+1)*segment_len])\n",
    "            time.sleep(1)\n",
    "        else:\n",
    "            translations = translator.translate(agg_sent[i*segment_len:])\n",
    "        translations_text.extend([translation.text for translation in translations])\n",
    "    except Exception as e:\n",
    "        print(e)\n",
    "        print('exiting for loop')\n",
    "        break"
   ]
  },
  {
   "cell_type": "code",
   "execution_count": 271,
   "metadata": {},
   "outputs": [
    {
     "data": {
      "text/plain": [
       "528"
      ]
     },
     "execution_count": 271,
     "metadata": {},
     "output_type": "execute_result"
    }
   ],
   "source": [
    "len_translations = len(translations_text)\n",
    "len_translations"
   ]
  },
  {
   "cell_type": "code",
   "execution_count": 272,
   "metadata": {},
   "outputs": [
    {
     "name": "stderr",
     "output_type": "stream",
     "text": [
      "/Users/adamnoack/anaconda/envs/hack/lib/python3.5/site-packages/ipykernel/__main__.py:3: SettingWithCopyWarning: \n",
      "A value is trying to be set on a copy of a slice from a DataFrame.\n",
      "Try using .loc[row_indexer,col_indexer] = value instead\n",
      "\n",
      "See the caveats in the documentation: http://pandas.pydata.org/pandas-docs/stable/indexing.html#indexing-view-versus-copy\n",
      "  app.launch_new_instance()\n"
     ]
    }
   ],
   "source": [
    "profiles_truncated = profiles_ss[:len_translations]\n",
    "\n",
    "profiles_truncated['agg_sent_trans'] = translations_text\n",
    "\n",
    "if save:\n",
    "    profiles_truncated.to_pickle('../data/pokec_cleaned/profiles_truncated1020.pkl')"
   ]
  },
  {
   "cell_type": "markdown",
   "metadata": {},
   "source": [
    "### Load the saved models"
   ]
  },
  {
   "cell_type": "code",
   "execution_count": 283,
   "metadata": {},
   "outputs": [],
   "source": [
    "profs_1 = pd.read_pickle('../data/pokec_cleaned/profiles_truncated.pkl')\n",
    "profs_2 = pd.read_pickle('../data/pokec_cleaned/profiles_truncated510.pkl')\n",
    "profs_3 = pd.read_pickle('../data/pokec_cleaned/profiles_truncated1020.pkl')\n",
    "\n",
    "profs_all = pd.concat([profs_1, profs_2, profs_3])"
   ]
  },
  {
   "cell_type": "markdown",
   "metadata": {},
   "source": [
    "### Load the InferSent sentence embedding model and the word embedding model"
   ]
  },
  {
   "cell_type": "code",
   "execution_count": 291,
   "metadata": {},
   "outputs": [
    {
     "name": "stdout",
     "output_type": "stream",
     "text": [
      "Found 3649(/4891) words with w2v vectors\n",
      "Vocab size : 3649\n"
     ]
    }
   ],
   "source": [
    "embedding_size = 2048\n",
    "\n",
    "model_version = 1\n",
    "MODEL_PATH = \"encoder/infersent%s.pickle\" % model_version\n",
    "params_model = {'bsize': 64, 'word_emb_dim': 300, 'enc_lstm_dim': embedding_size,\n",
    "                'pool_type': 'max', 'dpout_model': 0.0, 'version': model_version}\n",
    "model = InferSent(params_model)\n",
    "model.load_state_dict(torch.load(MODEL_PATH))\n",
    "\n",
    "# Keep it on CPU or put it on GPU\n",
    "use_cuda = False\n",
    "model = model.cuda() if use_cuda else model\n",
    "\n",
    "# If infersent1 -> use GloVe embeddings. If infersent2 -> use InferSent embeddings.\n",
    "W2V_PATH = 'dataset/GloVe/glove.840B.300d.txt' if model_version == 1 else 'dataset/fastText/crawl-300d-2M.vec'\n",
    "model.set_w2v_path(W2V_PATH)\n",
    "\n",
    "# build vocabulary based on the words that appear in the translated sentences\n",
    "model.build_vocab(sentences=list(profs_all.agg_sent_trans), tokenize=True)"
   ]
  },
  {
   "cell_type": "markdown",
   "metadata": {},
   "source": [
    "### Encode the english sentences using the InferSent model"
   ]
  },
  {
   "cell_type": "code",
   "execution_count": 293,
   "metadata": {},
   "outputs": [],
   "source": [
    "enc_sents = model.encode(list(profs_all.agg_sent_trans), bsize=128, tokenize=False, verbose=True)\n",
    "df_enc_sents = pd.DataFrame(enc_sents, columns=list(range(embedding_size*2)))"
   ]
  },
  {
   "cell_type": "code",
   "execution_count": 297,
   "metadata": {},
   "outputs": [],
   "source": [
    "profs_all = pd.concat([profs_all[numerical_vars], df_enc_sents], axis=1)"
   ]
  },
  {
   "cell_type": "markdown",
   "metadata": {},
   "source": [
    "### Separate the input and response variables"
   ]
  },
  {
   "cell_type": "code",
   "execution_count": 402,
   "metadata": {},
   "outputs": [],
   "source": [
    "profs_all_X = profs_all.drop(['age'], axis=1).set_index('user_id')\n",
    "profs_all_Y = profs_all[['age', 'user_id']].set_index('user_id')\n",
    "\n",
    "# change type of index from string (?) to int\n",
    "profs_all_X.index = profs_all_X.index.map(int)\n",
    "profs_all_Y.index = profs_all_Y.index.map(int)"
   ]
  },
  {
   "cell_type": "code",
   "execution_count": 403,
   "metadata": {},
   "outputs": [
    {
     "data": {
      "text/html": [
       "<div>\n",
       "<style scoped>\n",
       "    .dataframe tbody tr th:only-of-type {\n",
       "        vertical-align: middle;\n",
       "    }\n",
       "\n",
       "    .dataframe tbody tr th {\n",
       "        vertical-align: top;\n",
       "    }\n",
       "\n",
       "    .dataframe thead th {\n",
       "        text-align: right;\n",
       "    }\n",
       "</style>\n",
       "<table border=\"1\" class=\"dataframe\">\n",
       "  <thead>\n",
       "    <tr style=\"text-align: right;\">\n",
       "      <th></th>\n",
       "      <th>gender</th>\n",
       "      <th>0</th>\n",
       "      <th>1</th>\n",
       "      <th>2</th>\n",
       "      <th>3</th>\n",
       "      <th>4</th>\n",
       "      <th>5</th>\n",
       "      <th>6</th>\n",
       "      <th>7</th>\n",
       "      <th>8</th>\n",
       "      <th>...</th>\n",
       "      <th>4086</th>\n",
       "      <th>4087</th>\n",
       "      <th>4088</th>\n",
       "      <th>4089</th>\n",
       "      <th>4090</th>\n",
       "      <th>4091</th>\n",
       "      <th>4092</th>\n",
       "      <th>4093</th>\n",
       "      <th>4094</th>\n",
       "      <th>4095</th>\n",
       "    </tr>\n",
       "    <tr>\n",
       "      <th>user_id</th>\n",
       "      <th></th>\n",
       "      <th></th>\n",
       "      <th></th>\n",
       "      <th></th>\n",
       "      <th></th>\n",
       "      <th></th>\n",
       "      <th></th>\n",
       "      <th></th>\n",
       "      <th></th>\n",
       "      <th></th>\n",
       "      <th></th>\n",
       "      <th></th>\n",
       "      <th></th>\n",
       "      <th></th>\n",
       "      <th></th>\n",
       "      <th></th>\n",
       "      <th></th>\n",
       "      <th></th>\n",
       "      <th></th>\n",
       "      <th></th>\n",
       "      <th></th>\n",
       "    </tr>\n",
       "  </thead>\n",
       "  <tbody>\n",
       "    <tr>\n",
       "      <th>16</th>\n",
       "      <td>1.0</td>\n",
       "      <td>0.048036</td>\n",
       "      <td>0.033103</td>\n",
       "      <td>0.021765</td>\n",
       "      <td>-0.015159</td>\n",
       "      <td>0.044825</td>\n",
       "      <td>0.018631</td>\n",
       "      <td>0.040076</td>\n",
       "      <td>-0.014536</td>\n",
       "      <td>0.031466</td>\n",
       "      <td>...</td>\n",
       "      <td>0.10062</td>\n",
       "      <td>-0.014866</td>\n",
       "      <td>0.047434</td>\n",
       "      <td>0.00729</td>\n",
       "      <td>-0.012358</td>\n",
       "      <td>-0.005653</td>\n",
       "      <td>-0.010456</td>\n",
       "      <td>-0.000368</td>\n",
       "      <td>-0.038143</td>\n",
       "      <td>0.063126</td>\n",
       "    </tr>\n",
       "    <tr>\n",
       "      <th>32</th>\n",
       "      <td>1.0</td>\n",
       "      <td>0.138977</td>\n",
       "      <td>0.014836</td>\n",
       "      <td>0.054817</td>\n",
       "      <td>0.110309</td>\n",
       "      <td>0.056415</td>\n",
       "      <td>0.091919</td>\n",
       "      <td>0.064899</td>\n",
       "      <td>0.000000</td>\n",
       "      <td>0.045998</td>\n",
       "      <td>...</td>\n",
       "      <td>0.11366</td>\n",
       "      <td>0.000000</td>\n",
       "      <td>0.054221</td>\n",
       "      <td>0.00998</td>\n",
       "      <td>0.019479</td>\n",
       "      <td>0.007750</td>\n",
       "      <td>0.006421</td>\n",
       "      <td>0.000000</td>\n",
       "      <td>0.005256</td>\n",
       "      <td>0.049405</td>\n",
       "    </tr>\n",
       "    <tr>\n",
       "      <th>46</th>\n",
       "      <td>0.0</td>\n",
       "      <td>0.122002</td>\n",
       "      <td>0.138915</td>\n",
       "      <td>0.026357</td>\n",
       "      <td>0.108986</td>\n",
       "      <td>0.033561</td>\n",
       "      <td>0.011236</td>\n",
       "      <td>0.078515</td>\n",
       "      <td>0.000000</td>\n",
       "      <td>0.051494</td>\n",
       "      <td>...</td>\n",
       "      <td>0.00000</td>\n",
       "      <td>0.017397</td>\n",
       "      <td>0.023455</td>\n",
       "      <td>0.00000</td>\n",
       "      <td>0.024935</td>\n",
       "      <td>0.000000</td>\n",
       "      <td>0.000000</td>\n",
       "      <td>0.088059</td>\n",
       "      <td>0.000000</td>\n",
       "      <td>0.022983</td>\n",
       "    </tr>\n",
       "  </tbody>\n",
       "</table>\n",
       "<p>3 rows × 4097 columns</p>\n",
       "</div>"
      ],
      "text/plain": [
       "         gender         0         1         2         3         4         5  \\\n",
       "user_id                                                                       \n",
       "16          1.0  0.048036  0.033103  0.021765 -0.015159  0.044825  0.018631   \n",
       "32          1.0  0.138977  0.014836  0.054817  0.110309  0.056415  0.091919   \n",
       "46          0.0  0.122002  0.138915  0.026357  0.108986  0.033561  0.011236   \n",
       "\n",
       "                6         7         8    ...        4086      4087      4088  \\\n",
       "user_id                                  ...                                   \n",
       "16       0.040076 -0.014536  0.031466    ...     0.10062 -0.014866  0.047434   \n",
       "32       0.064899  0.000000  0.045998    ...     0.11366  0.000000  0.054221   \n",
       "46       0.078515  0.000000  0.051494    ...     0.00000  0.017397  0.023455   \n",
       "\n",
       "            4089      4090      4091      4092      4093      4094      4095  \n",
       "user_id                                                                       \n",
       "16       0.00729 -0.012358 -0.005653 -0.010456 -0.000368 -0.038143  0.063126  \n",
       "32       0.00998  0.019479  0.007750  0.006421  0.000000  0.005256  0.049405  \n",
       "46       0.00000  0.024935  0.000000  0.000000  0.088059  0.000000  0.022983  \n",
       "\n",
       "[3 rows x 4097 columns]"
      ]
     },
     "execution_count": 403,
     "metadata": {},
     "output_type": "execute_result"
    }
   ],
   "source": [
    "profs_all_X.head(3)"
   ]
  },
  {
   "cell_type": "code",
   "execution_count": 404,
   "metadata": {},
   "outputs": [
    {
     "data": {
      "text/html": [
       "<div>\n",
       "<style scoped>\n",
       "    .dataframe tbody tr th:only-of-type {\n",
       "        vertical-align: middle;\n",
       "    }\n",
       "\n",
       "    .dataframe tbody tr th {\n",
       "        vertical-align: top;\n",
       "    }\n",
       "\n",
       "    .dataframe thead th {\n",
       "        text-align: right;\n",
       "    }\n",
       "</style>\n",
       "<table border=\"1\" class=\"dataframe\">\n",
       "  <thead>\n",
       "    <tr style=\"text-align: right;\">\n",
       "      <th></th>\n",
       "      <th>age</th>\n",
       "    </tr>\n",
       "    <tr>\n",
       "      <th>user_id</th>\n",
       "      <th></th>\n",
       "    </tr>\n",
       "  </thead>\n",
       "  <tbody>\n",
       "    <tr>\n",
       "      <th>16</th>\n",
       "      <td>23.0</td>\n",
       "    </tr>\n",
       "    <tr>\n",
       "      <th>32</th>\n",
       "      <td>21.0</td>\n",
       "    </tr>\n",
       "    <tr>\n",
       "      <th>46</th>\n",
       "      <td>21.0</td>\n",
       "    </tr>\n",
       "  </tbody>\n",
       "</table>\n",
       "</div>"
      ],
      "text/plain": [
       "          age\n",
       "user_id      \n",
       "16       23.0\n",
       "32       21.0\n",
       "46       21.0"
      ]
     },
     "execution_count": 404,
     "metadata": {},
     "output_type": "execute_result"
    }
   ],
   "source": [
    "profs_all_Y.head(3)"
   ]
  },
  {
   "cell_type": "markdown",
   "metadata": {},
   "source": [
    "### Find the average aggregate sentence embedding of each profile's friends and combine these new features with the original ones"
   ]
  },
  {
   "cell_type": "code",
   "execution_count": 380,
   "metadata": {},
   "outputs": [],
   "source": [
    "def average_and_merge(profs, edg):\n",
    "    friendless = 0\n",
    "    profs_avgs = pd.DataFrame(columns=profs.columns)\n",
    "    for index,_ in profs.iterrows():\n",
    "        index = int(index)\n",
    "        friend_idxs = list(edg[edg.source == index].destination)\n",
    "        friend_df = pd.DataFrame(columns=profs.columns)\n",
    "        \n",
    "        # avoid key error when friend dne in profs\n",
    "        for idx in friend_idxs:\n",
    "            try:\n",
    "                friend_df.loc[idx] = profs.loc[idx]\n",
    "            except KeyError as e:\n",
    "                pass\n",
    "        \n",
    "        # if none of the user's friends have data, use the user's data as the friends' data\n",
    "        if len(friend_df > 0):\n",
    "            profs_avgs.loc[index] = list(friend_df.mean())\n",
    "        else:\n",
    "            profs_avgs.loc[index] = profs.loc[index]\n",
    "            friendless += 1\n",
    "            \n",
    "    profs_aggregate = pd.concat([profs, profs_avgs], axis=1)\n",
    "    return profs_aggregate, friendless/len(profs.index)\n",
    "\n",
    "# profee = average_and_merge(profs, edges)"
   ]
  },
  {
   "cell_type": "code",
   "execution_count": 381,
   "metadata": {},
   "outputs": [],
   "source": [
    "profs_agg, friendless_proportion = average_and_merge(profs_all_X, edges)"
   ]
  },
  {
   "cell_type": "code",
   "execution_count": 386,
   "metadata": {},
   "outputs": [
    {
     "name": "stdout",
     "output_type": "stream",
     "text": [
      "percentage of people without friends: 33.5%\n"
     ]
    },
    {
     "data": {
      "text/html": [
       "<div>\n",
       "<style scoped>\n",
       "    .dataframe tbody tr th:only-of-type {\n",
       "        vertical-align: middle;\n",
       "    }\n",
       "\n",
       "    .dataframe tbody tr th {\n",
       "        vertical-align: top;\n",
       "    }\n",
       "\n",
       "    .dataframe thead th {\n",
       "        text-align: right;\n",
       "    }\n",
       "</style>\n",
       "<table border=\"1\" class=\"dataframe\">\n",
       "  <thead>\n",
       "    <tr style=\"text-align: right;\">\n",
       "      <th></th>\n",
       "      <th>gender</th>\n",
       "      <th>0</th>\n",
       "      <th>1</th>\n",
       "      <th>2</th>\n",
       "      <th>3</th>\n",
       "      <th>4</th>\n",
       "      <th>5</th>\n",
       "      <th>6</th>\n",
       "      <th>7</th>\n",
       "      <th>8</th>\n",
       "      <th>...</th>\n",
       "      <th>4086</th>\n",
       "      <th>4087</th>\n",
       "      <th>4088</th>\n",
       "      <th>4089</th>\n",
       "      <th>4090</th>\n",
       "      <th>4091</th>\n",
       "      <th>4092</th>\n",
       "      <th>4093</th>\n",
       "      <th>4094</th>\n",
       "      <th>4095</th>\n",
       "    </tr>\n",
       "    <tr>\n",
       "      <th>user_id</th>\n",
       "      <th></th>\n",
       "      <th></th>\n",
       "      <th></th>\n",
       "      <th></th>\n",
       "      <th></th>\n",
       "      <th></th>\n",
       "      <th></th>\n",
       "      <th></th>\n",
       "      <th></th>\n",
       "      <th></th>\n",
       "      <th></th>\n",
       "      <th></th>\n",
       "      <th></th>\n",
       "      <th></th>\n",
       "      <th></th>\n",
       "      <th></th>\n",
       "      <th></th>\n",
       "      <th></th>\n",
       "      <th></th>\n",
       "      <th></th>\n",
       "      <th></th>\n",
       "    </tr>\n",
       "  </thead>\n",
       "  <tbody>\n",
       "    <tr>\n",
       "      <th>16</th>\n",
       "      <td>1.0</td>\n",
       "      <td>0.048036</td>\n",
       "      <td>0.033103</td>\n",
       "      <td>0.021765</td>\n",
       "      <td>-0.015159</td>\n",
       "      <td>0.044825</td>\n",
       "      <td>0.018631</td>\n",
       "      <td>0.040076</td>\n",
       "      <td>-0.014536</td>\n",
       "      <td>0.031466</td>\n",
       "      <td>...</td>\n",
       "      <td>0.100620</td>\n",
       "      <td>-0.014866</td>\n",
       "      <td>0.047434</td>\n",
       "      <td>0.007290</td>\n",
       "      <td>-0.012358</td>\n",
       "      <td>-0.005653</td>\n",
       "      <td>-0.010456</td>\n",
       "      <td>-0.000368</td>\n",
       "      <td>-0.038143</td>\n",
       "      <td>0.063126</td>\n",
       "    </tr>\n",
       "    <tr>\n",
       "      <th>32</th>\n",
       "      <td>1.0</td>\n",
       "      <td>0.138977</td>\n",
       "      <td>0.014836</td>\n",
       "      <td>0.054817</td>\n",
       "      <td>0.110309</td>\n",
       "      <td>0.056415</td>\n",
       "      <td>0.091919</td>\n",
       "      <td>0.064899</td>\n",
       "      <td>0.000000</td>\n",
       "      <td>0.045998</td>\n",
       "      <td>...</td>\n",
       "      <td>0.055556</td>\n",
       "      <td>0.019512</td>\n",
       "      <td>0.029429</td>\n",
       "      <td>0.010018</td>\n",
       "      <td>0.027283</td>\n",
       "      <td>0.007907</td>\n",
       "      <td>0.003449</td>\n",
       "      <td>0.040250</td>\n",
       "      <td>0.002222</td>\n",
       "      <td>0.042292</td>\n",
       "    </tr>\n",
       "    <tr>\n",
       "      <th>46</th>\n",
       "      <td>0.0</td>\n",
       "      <td>0.122002</td>\n",
       "      <td>0.138915</td>\n",
       "      <td>0.026357</td>\n",
       "      <td>0.108986</td>\n",
       "      <td>0.033561</td>\n",
       "      <td>0.011236</td>\n",
       "      <td>0.078515</td>\n",
       "      <td>0.000000</td>\n",
       "      <td>0.051494</td>\n",
       "      <td>...</td>\n",
       "      <td>0.068826</td>\n",
       "      <td>0.034356</td>\n",
       "      <td>0.035585</td>\n",
       "      <td>0.031934</td>\n",
       "      <td>0.040690</td>\n",
       "      <td>0.013072</td>\n",
       "      <td>0.000000</td>\n",
       "      <td>0.017361</td>\n",
       "      <td>0.000000</td>\n",
       "      <td>0.049068</td>\n",
       "    </tr>\n",
       "  </tbody>\n",
       "</table>\n",
       "<p>3 rows × 8194 columns</p>\n",
       "</div>"
      ],
      "text/plain": [
       "         gender         0         1         2         3         4         5  \\\n",
       "user_id                                                                       \n",
       "16          1.0  0.048036  0.033103  0.021765 -0.015159  0.044825  0.018631   \n",
       "32          1.0  0.138977  0.014836  0.054817  0.110309  0.056415  0.091919   \n",
       "46          0.0  0.122002  0.138915  0.026357  0.108986  0.033561  0.011236   \n",
       "\n",
       "                6         7         8    ...         4086      4087      4088  \\\n",
       "user_id                                  ...                                    \n",
       "16       0.040076 -0.014536  0.031466    ...     0.100620 -0.014866  0.047434   \n",
       "32       0.064899  0.000000  0.045998    ...     0.055556  0.019512  0.029429   \n",
       "46       0.078515  0.000000  0.051494    ...     0.068826  0.034356  0.035585   \n",
       "\n",
       "             4089      4090      4091      4092      4093      4094      4095  \n",
       "user_id                                                                        \n",
       "16       0.007290 -0.012358 -0.005653 -0.010456 -0.000368 -0.038143  0.063126  \n",
       "32       0.010018  0.027283  0.007907  0.003449  0.040250  0.002222  0.042292  \n",
       "46       0.031934  0.040690  0.013072  0.000000  0.017361  0.000000  0.049068  \n",
       "\n",
       "[3 rows x 8194 columns]"
      ]
     },
     "execution_count": 386,
     "metadata": {},
     "output_type": "execute_result"
    }
   ],
   "source": [
    "print('percentage of people without friends: {:.1f}%'.format(friendless_proportion*100))\n",
    "profs_agg.head(3)"
   ]
  },
  {
   "cell_type": "markdown",
   "metadata": {},
   "source": [
    "### Save dataframes for model use"
   ]
  },
  {
   "cell_type": "code",
   "execution_count": 391,
   "metadata": {},
   "outputs": [],
   "source": [
    "save_final = False\n",
    "\n",
    "if save_final:\n",
    "    profs_all.to_pickle('../data/pokec_cleaned/profs_all.pkl')\n",
    "    profs_agg.to_pickle('../data/pokec_cleaned/profs_agg.pkl')"
   ]
  },
  {
   "cell_type": "markdown",
   "metadata": {},
   "source": [
    "### Convert Y to categorical variable"
   ]
  },
  {
   "cell_type": "code",
   "execution_count": 413,
   "metadata": {},
   "outputs": [],
   "source": [
    "def categ_convert(age):\n",
    "    if age < 20:\n",
    "        return 0\n",
    "    elif age < 24:\n",
    "        return 1\n",
    "    else:\n",
    "        return 2"
   ]
  },
  {
   "cell_type": "code",
   "execution_count": 414,
   "metadata": {},
   "outputs": [],
   "source": [
    "profs_all_Y['categ_age'] = profs_all_Y.age.apply(categ_convert)"
   ]
  },
  {
   "cell_type": "code",
   "execution_count": 415,
   "metadata": {},
   "outputs": [],
   "source": [
    "profs_all_Y.to_pickle('../data/pokec_cleaned/profs_Y.pkl')"
   ]
  },
  {
   "cell_type": "markdown",
   "metadata": {},
   "source": [
    "### Scrap"
   ]
  },
  {
   "cell_type": "code",
   "execution_count": 35,
   "metadata": {},
   "outputs": [],
   "source": [
    "l = [4,5,6,7,8,9,10,11,12,13,14,15,16,17,18,19]\n",
    "df2 = pd.DataFrame(columns=list(range(len(l))))\n",
    "\n",
    "df2.loc[0] = l\n",
    "\n",
    "edges_mini = pd.DataFrame({'source':[1,1,1,1,2,2,2,3,3,4,4,4,5,5,5,6,7,7], 'destination':[4,5,6,7,3,4,7,2,5,1,2,5,1,3,4,1,1,2]}, columns=['source', 'destination'])\n",
    "\n",
    "num_feats = 7\n",
    "profs_mini = pd.DataFrame(columns=list(range(num_feats)))\n",
    "for i in range(num_feats):\n",
    "    profs_mini.loc[i+1] = list(range(i*num_feats, (i+1)*num_feats))"
   ]
  },
  {
   "cell_type": "code",
   "execution_count": 93,
   "metadata": {},
   "outputs": [],
   "source": [
    "df1 = df1.sample(frac=1).reset_index(drop=True)"
   ]
  },
  {
   "cell_type": "code",
   "execution_count": 205,
   "metadata": {},
   "outputs": [],
   "source": [
    "df1 = pd.DataFrame({'1':[1,2,3],'2':[4,5,6],'3':[7,8,9]}, columns=['1', '2', '3'])"
   ]
  },
  {
   "cell_type": "code",
   "execution_count": 248,
   "metadata": {},
   "outputs": [],
   "source": [
    "df1.index.name = 'u_id'\n",
    "df1.index -= 1"
   ]
  },
  {
   "cell_type": "code",
   "execution_count": 254,
   "metadata": {},
   "outputs": [],
   "source": [
    "df2 = pd.DataFrame({'source':[0,0,1,1,2,2], 'destination':[1,2,0,2,0,1]}, columns=['source', 'destination'])"
   ]
  },
  {
   "cell_type": "code",
   "execution_count": 255,
   "metadata": {},
   "outputs": [],
   "source": [
    "df3 = average_and_merge(df1, df2)"
   ]
  },
  {
   "cell_type": "code",
   "execution_count": 357,
   "metadata": {},
   "outputs": [],
   "source": [
    "df1.loc[20] = df1.loc[2]"
   ]
  },
  {
   "cell_type": "code",
   "execution_count": 358,
   "metadata": {},
   "outputs": [
    {
     "data": {
      "text/html": [
       "<div>\n",
       "<style scoped>\n",
       "    .dataframe tbody tr th:only-of-type {\n",
       "        vertical-align: middle;\n",
       "    }\n",
       "\n",
       "    .dataframe tbody tr th {\n",
       "        vertical-align: top;\n",
       "    }\n",
       "\n",
       "    .dataframe thead th {\n",
       "        text-align: right;\n",
       "    }\n",
       "</style>\n",
       "<table border=\"1\" class=\"dataframe\">\n",
       "  <thead>\n",
       "    <tr style=\"text-align: right;\">\n",
       "      <th></th>\n",
       "      <th>1</th>\n",
       "      <th>2</th>\n",
       "      <th>3</th>\n",
       "      <th>15</th>\n",
       "    </tr>\n",
       "    <tr>\n",
       "      <th>u_id</th>\n",
       "      <th></th>\n",
       "      <th></th>\n",
       "      <th></th>\n",
       "      <th></th>\n",
       "    </tr>\n",
       "  </thead>\n",
       "  <tbody>\n",
       "    <tr>\n",
       "      <th>0</th>\n",
       "      <td>1</td>\n",
       "      <td>4</td>\n",
       "      <td>7</td>\n",
       "      <td>2</td>\n",
       "    </tr>\n",
       "    <tr>\n",
       "      <th>1</th>\n",
       "      <td>2</td>\n",
       "      <td>5</td>\n",
       "      <td>8</td>\n",
       "      <td>5</td>\n",
       "    </tr>\n",
       "    <tr>\n",
       "      <th>2</th>\n",
       "      <td>3</td>\n",
       "      <td>6</td>\n",
       "      <td>9</td>\n",
       "      <td>8</td>\n",
       "    </tr>\n",
       "    <tr>\n",
       "      <th>15</th>\n",
       "      <td>2</td>\n",
       "      <td>5</td>\n",
       "      <td>8</td>\n",
       "      <td>5</td>\n",
       "    </tr>\n",
       "    <tr>\n",
       "      <th>20</th>\n",
       "      <td>3</td>\n",
       "      <td>6</td>\n",
       "      <td>9</td>\n",
       "      <td>8</td>\n",
       "    </tr>\n",
       "  </tbody>\n",
       "</table>\n",
       "</div>"
      ],
      "text/plain": [
       "      1  2  3  15\n",
       "u_id             \n",
       "0     1  4  7   2\n",
       "1     2  5  8   5\n",
       "2     3  6  9   8\n",
       "15    2  5  8   5\n",
       "20    3  6  9   8"
      ]
     },
     "execution_count": 358,
     "metadata": {},
     "output_type": "execute_result"
    }
   ],
   "source": [
    "df1"
   ]
  },
  {
   "cell_type": "code",
   "execution_count": 257,
   "metadata": {},
   "outputs": [
    {
     "data": {
      "text/html": [
       "<div>\n",
       "<style scoped>\n",
       "    .dataframe tbody tr th:only-of-type {\n",
       "        vertical-align: middle;\n",
       "    }\n",
       "\n",
       "    .dataframe tbody tr th {\n",
       "        vertical-align: top;\n",
       "    }\n",
       "\n",
       "    .dataframe thead th {\n",
       "        text-align: right;\n",
       "    }\n",
       "</style>\n",
       "<table border=\"1\" class=\"dataframe\">\n",
       "  <thead>\n",
       "    <tr style=\"text-align: right;\">\n",
       "      <th></th>\n",
       "      <th>source</th>\n",
       "      <th>destination</th>\n",
       "    </tr>\n",
       "  </thead>\n",
       "  <tbody>\n",
       "    <tr>\n",
       "      <th>0</th>\n",
       "      <td>0</td>\n",
       "      <td>1</td>\n",
       "    </tr>\n",
       "    <tr>\n",
       "      <th>1</th>\n",
       "      <td>0</td>\n",
       "      <td>2</td>\n",
       "    </tr>\n",
       "    <tr>\n",
       "      <th>2</th>\n",
       "      <td>1</td>\n",
       "      <td>0</td>\n",
       "    </tr>\n",
       "    <tr>\n",
       "      <th>3</th>\n",
       "      <td>1</td>\n",
       "      <td>2</td>\n",
       "    </tr>\n",
       "    <tr>\n",
       "      <th>4</th>\n",
       "      <td>2</td>\n",
       "      <td>0</td>\n",
       "    </tr>\n",
       "    <tr>\n",
       "      <th>5</th>\n",
       "      <td>2</td>\n",
       "      <td>1</td>\n",
       "    </tr>\n",
       "  </tbody>\n",
       "</table>\n",
       "</div>"
      ],
      "text/plain": [
       "   source  destination\n",
       "0       0            1\n",
       "1       0            2\n",
       "2       1            0\n",
       "3       1            2\n",
       "4       2            0\n",
       "5       2            1"
      ]
     },
     "execution_count": 257,
     "metadata": {},
     "output_type": "execute_result"
    }
   ],
   "source": [
    "df2"
   ]
  },
  {
   "cell_type": "code",
   "execution_count": 258,
   "metadata": {},
   "outputs": [
    {
     "data": {
      "text/html": [
       "<div>\n",
       "<style scoped>\n",
       "    .dataframe tbody tr th:only-of-type {\n",
       "        vertical-align: middle;\n",
       "    }\n",
       "\n",
       "    .dataframe tbody tr th {\n",
       "        vertical-align: top;\n",
       "    }\n",
       "\n",
       "    .dataframe thead th {\n",
       "        text-align: right;\n",
       "    }\n",
       "</style>\n",
       "<table border=\"1\" class=\"dataframe\">\n",
       "  <thead>\n",
       "    <tr style=\"text-align: right;\">\n",
       "      <th></th>\n",
       "      <th>1</th>\n",
       "      <th>2</th>\n",
       "      <th>3</th>\n",
       "      <th>1</th>\n",
       "      <th>2</th>\n",
       "      <th>3</th>\n",
       "    </tr>\n",
       "    <tr>\n",
       "      <th>u_id</th>\n",
       "      <th></th>\n",
       "      <th></th>\n",
       "      <th></th>\n",
       "      <th></th>\n",
       "      <th></th>\n",
       "      <th></th>\n",
       "    </tr>\n",
       "  </thead>\n",
       "  <tbody>\n",
       "    <tr>\n",
       "      <th>0</th>\n",
       "      <td>1</td>\n",
       "      <td>4</td>\n",
       "      <td>7</td>\n",
       "      <td>2.5</td>\n",
       "      <td>5.5</td>\n",
       "      <td>8.5</td>\n",
       "    </tr>\n",
       "    <tr>\n",
       "      <th>1</th>\n",
       "      <td>2</td>\n",
       "      <td>5</td>\n",
       "      <td>8</td>\n",
       "      <td>2.0</td>\n",
       "      <td>5.0</td>\n",
       "      <td>8.0</td>\n",
       "    </tr>\n",
       "    <tr>\n",
       "      <th>2</th>\n",
       "      <td>3</td>\n",
       "      <td>6</td>\n",
       "      <td>9</td>\n",
       "      <td>1.5</td>\n",
       "      <td>4.5</td>\n",
       "      <td>7.5</td>\n",
       "    </tr>\n",
       "  </tbody>\n",
       "</table>\n",
       "</div>"
      ],
      "text/plain": [
       "      1  2  3    1    2    3\n",
       "u_id                        \n",
       "0     1  4  7  2.5  5.5  8.5\n",
       "1     2  5  8  2.0  5.0  8.0\n",
       "2     3  6  9  1.5  4.5  7.5"
      ]
     },
     "execution_count": 258,
     "metadata": {},
     "output_type": "execute_result"
    }
   ],
   "source": [
    "df3"
   ]
  },
  {
   "cell_type": "code",
   "execution_count": null,
   "metadata": {},
   "outputs": [],
   "source": []
  }
 ],
 "metadata": {
  "kernelspec": {
   "display_name": "Python [conda env:hack]",
   "language": "python",
   "name": "conda-env-hack-py"
  },
  "language_info": {
   "codemirror_mode": {
    "name": "ipython",
    "version": 3
   },
   "file_extension": ".py",
   "mimetype": "text/x-python",
   "name": "python",
   "nbconvert_exporter": "python",
   "pygments_lexer": "ipython3",
   "version": "3.5.2"
  }
 },
 "nbformat": 4,
 "nbformat_minor": 2
}
