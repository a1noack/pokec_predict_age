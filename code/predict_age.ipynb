{
 "cells": [
  {
   "cell_type": "code",
   "execution_count": 71,
   "metadata": {},
   "outputs": [],
   "source": [
    "import numpy as np, pandas as pd\n",
    "import torch.nn as nn, torch.nn.functional as F, torch.optim as optim, torch.utils.data as data_utils, torch\n",
    "import my_metric as mm\n",
    "from torch.utils.data.sampler import SubsetRandomSampler\n",
    "from keras.models import Sequential\n",
    "from keras.layers import Dense, Dropout\n",
    "from sklearn.model_selection import train_test_split\n",
    "import matplotlib.pyplot as plt, seaborn as sns\n",
    "%matplotlib inline\n",
    "import warnings\n",
    "warnings.simplefilter(action='ignore', category=FutureWarning)"
   ]
  },
  {
   "cell_type": "markdown",
   "metadata": {},
   "source": [
    "### Load data"
   ]
  },
  {
   "cell_type": "code",
   "execution_count": 103,
   "metadata": {},
   "outputs": [],
   "source": [
    "all_X = pd.read_pickle('../data/pokec_cleaned/profs_all.pkl')\n",
    "agg_X = pd.read_pickle('../data/pokec_cleaned/profs_agg.pkl')\n",
    "Y = pd.read_pickle('../data/pokec_cleaned/profs_Y.pkl')"
   ]
  },
  {
   "cell_type": "code",
   "execution_count": 104,
   "metadata": {},
   "outputs": [],
   "source": [
    "all_X = all_X.drop(['age'], axis=1).set_index('user_id')"
   ]
  },
  {
   "cell_type": "code",
   "execution_count": 105,
   "metadata": {},
   "outputs": [
    {
     "data": {
      "text/html": [
       "<div>\n",
       "<style scoped>\n",
       "    .dataframe tbody tr th:only-of-type {\n",
       "        vertical-align: middle;\n",
       "    }\n",
       "\n",
       "    .dataframe tbody tr th {\n",
       "        vertical-align: top;\n",
       "    }\n",
       "\n",
       "    .dataframe thead th {\n",
       "        text-align: right;\n",
       "    }\n",
       "</style>\n",
       "<table border=\"1\" class=\"dataframe\">\n",
       "  <thead>\n",
       "    <tr style=\"text-align: right;\">\n",
       "      <th></th>\n",
       "      <th>gender</th>\n",
       "      <th>0</th>\n",
       "      <th>1</th>\n",
       "      <th>2</th>\n",
       "      <th>3</th>\n",
       "      <th>4</th>\n",
       "      <th>5</th>\n",
       "      <th>6</th>\n",
       "      <th>7</th>\n",
       "      <th>8</th>\n",
       "      <th>...</th>\n",
       "      <th>4086</th>\n",
       "      <th>4087</th>\n",
       "      <th>4088</th>\n",
       "      <th>4089</th>\n",
       "      <th>4090</th>\n",
       "      <th>4091</th>\n",
       "      <th>4092</th>\n",
       "      <th>4093</th>\n",
       "      <th>4094</th>\n",
       "      <th>4095</th>\n",
       "    </tr>\n",
       "    <tr>\n",
       "      <th>user_id</th>\n",
       "      <th></th>\n",
       "      <th></th>\n",
       "      <th></th>\n",
       "      <th></th>\n",
       "      <th></th>\n",
       "      <th></th>\n",
       "      <th></th>\n",
       "      <th></th>\n",
       "      <th></th>\n",
       "      <th></th>\n",
       "      <th></th>\n",
       "      <th></th>\n",
       "      <th></th>\n",
       "      <th></th>\n",
       "      <th></th>\n",
       "      <th></th>\n",
       "      <th></th>\n",
       "      <th></th>\n",
       "      <th></th>\n",
       "      <th></th>\n",
       "      <th></th>\n",
       "    </tr>\n",
       "  </thead>\n",
       "  <tbody>\n",
       "    <tr>\n",
       "      <th>16</th>\n",
       "      <td>1.0</td>\n",
       "      <td>0.048036</td>\n",
       "      <td>0.033103</td>\n",
       "      <td>0.021765</td>\n",
       "      <td>-0.015159</td>\n",
       "      <td>0.044825</td>\n",
       "      <td>0.018631</td>\n",
       "      <td>0.040076</td>\n",
       "      <td>-0.014536</td>\n",
       "      <td>0.031466</td>\n",
       "      <td>...</td>\n",
       "      <td>0.10062</td>\n",
       "      <td>-0.014866</td>\n",
       "      <td>0.047434</td>\n",
       "      <td>0.00729</td>\n",
       "      <td>-0.012358</td>\n",
       "      <td>-0.005653</td>\n",
       "      <td>-0.010456</td>\n",
       "      <td>-0.000368</td>\n",
       "      <td>-0.038143</td>\n",
       "      <td>0.063126</td>\n",
       "    </tr>\n",
       "    <tr>\n",
       "      <th>32</th>\n",
       "      <td>1.0</td>\n",
       "      <td>0.138977</td>\n",
       "      <td>0.014836</td>\n",
       "      <td>0.054817</td>\n",
       "      <td>0.110309</td>\n",
       "      <td>0.056415</td>\n",
       "      <td>0.091919</td>\n",
       "      <td>0.064899</td>\n",
       "      <td>0.000000</td>\n",
       "      <td>0.045998</td>\n",
       "      <td>...</td>\n",
       "      <td>0.11366</td>\n",
       "      <td>0.000000</td>\n",
       "      <td>0.054221</td>\n",
       "      <td>0.00998</td>\n",
       "      <td>0.019479</td>\n",
       "      <td>0.007750</td>\n",
       "      <td>0.006421</td>\n",
       "      <td>0.000000</td>\n",
       "      <td>0.005256</td>\n",
       "      <td>0.049405</td>\n",
       "    </tr>\n",
       "    <tr>\n",
       "      <th>46</th>\n",
       "      <td>0.0</td>\n",
       "      <td>0.122002</td>\n",
       "      <td>0.138915</td>\n",
       "      <td>0.026357</td>\n",
       "      <td>0.108986</td>\n",
       "      <td>0.033561</td>\n",
       "      <td>0.011236</td>\n",
       "      <td>0.078515</td>\n",
       "      <td>0.000000</td>\n",
       "      <td>0.051494</td>\n",
       "      <td>...</td>\n",
       "      <td>0.00000</td>\n",
       "      <td>0.017397</td>\n",
       "      <td>0.023455</td>\n",
       "      <td>0.00000</td>\n",
       "      <td>0.024935</td>\n",
       "      <td>0.000000</td>\n",
       "      <td>0.000000</td>\n",
       "      <td>0.088059</td>\n",
       "      <td>0.000000</td>\n",
       "      <td>0.022983</td>\n",
       "    </tr>\n",
       "  </tbody>\n",
       "</table>\n",
       "<p>3 rows × 4097 columns</p>\n",
       "</div>"
      ],
      "text/plain": [
       "         gender         0         1         2         3         4         5  \\\n",
       "user_id                                                                       \n",
       "16          1.0  0.048036  0.033103  0.021765 -0.015159  0.044825  0.018631   \n",
       "32          1.0  0.138977  0.014836  0.054817  0.110309  0.056415  0.091919   \n",
       "46          0.0  0.122002  0.138915  0.026357  0.108986  0.033561  0.011236   \n",
       "\n",
       "                6         7         8    ...        4086      4087      4088  \\\n",
       "user_id                                  ...                                   \n",
       "16       0.040076 -0.014536  0.031466    ...     0.10062 -0.014866  0.047434   \n",
       "32       0.064899  0.000000  0.045998    ...     0.11366  0.000000  0.054221   \n",
       "46       0.078515  0.000000  0.051494    ...     0.00000  0.017397  0.023455   \n",
       "\n",
       "            4089      4090      4091      4092      4093      4094      4095  \n",
       "user_id                                                                       \n",
       "16       0.00729 -0.012358 -0.005653 -0.010456 -0.000368 -0.038143  0.063126  \n",
       "32       0.00998  0.019479  0.007750  0.006421  0.000000  0.005256  0.049405  \n",
       "46       0.00000  0.024935  0.000000  0.000000  0.088059  0.000000  0.022983  \n",
       "\n",
       "[3 rows x 4097 columns]"
      ]
     },
     "execution_count": 105,
     "metadata": {},
     "output_type": "execute_result"
    }
   ],
   "source": [
    "all_X.head(3)"
   ]
  },
  {
   "cell_type": "markdown",
   "metadata": {},
   "source": [
    "### View distribution of ages"
   ]
  },
  {
   "cell_type": "code",
   "execution_count": 106,
   "metadata": {},
   "outputs": [
    {
     "data": {
      "image/png": "[encoded data removed]",
      "text/plain": [
       "<matplotlib.figure.Figure at 0x1aa31fd1d0>"
      ]
     },
     "metadata": {},
     "output_type": "display_data"
    }
   ],
   "source": [
    "ax = sns.distplot(Y.categ_age)"
   ]
  },
  {
   "cell_type": "code",
   "execution_count": 107,
   "metadata": {},
   "outputs": [
    {
     "data": {
      "text/plain": [
       "1    0.438630\n",
       "0    0.305556\n",
       "2    0.255814\n",
       "Name: categ_age, dtype: float64"
      ]
     },
     "execution_count": 107,
     "metadata": {},
     "output_type": "execute_result"
    }
   ],
   "source": [
    "Y.categ_age.value_counts(normalize=True)"
   ]
  },
  {
   "cell_type": "markdown",
   "metadata": {},
   "source": [
    "### Convert categ_age vector to one-hot vector"
   ]
  },
  {
   "cell_type": "code",
   "execution_count": 108,
   "metadata": {},
   "outputs": [],
   "source": [
    "Y_values = Y.categ_age.values\n",
    "Y_len = Y_values.shape[0]"
   ]
  },
  {
   "cell_type": "code",
   "execution_count": 109,
   "metadata": {},
   "outputs": [],
   "source": [
    "Y_oh = np.zeros((Y_len, 3))\n",
    "Y_oh[np.arange(Y_len), Y_values] = 1"
   ]
  },
  {
   "cell_type": "markdown",
   "metadata": {},
   "source": [
    "### Split into train and test variables"
   ]
  },
  {
   "cell_type": "code",
   "execution_count": 110,
   "metadata": {},
   "outputs": [],
   "source": [
    "X_train, X_test, y_train, y_test = train_test_split(all_X, Y_oh, test_size=0.15, random_state=42)"
   ]
  },
  {
   "cell_type": "markdown",
   "metadata": {},
   "source": [
    "### Convert to tensors"
   ]
  },
  {
   "cell_type": "code",
   "execution_count": 10,
   "metadata": {},
   "outputs": [],
   "source": [
    "features = torch.from_numpy(agg_X.values)\n",
    "targets = torch.from_numpy(Y_values)"
   ]
  },
  {
   "cell_type": "code",
   "execution_count": 11,
   "metadata": {},
   "outputs": [],
   "source": [
    "dataset = data_utils.TensorDataset(features, targets)"
   ]
  },
  {
   "cell_type": "code",
   "execution_count": 12,
   "metadata": {},
   "outputs": [],
   "source": [
    "batch_size = 100\n",
    "validation_split = .2\n",
    "shuffle_dataset = True\n",
    "\n",
    "# Creating data indices for training and validation splits:\n",
    "dataset_size = features.size()[0]\n",
    "indices = list(range(dataset_size))\n",
    "split = int(np.floor(validation_split * dataset_size))\n",
    "if shuffle_dataset:\n",
    "    np.random.seed(42)\n",
    "    np.random.shuffle(indices)\n",
    "train_indices, val_indices = indices[split:], indices[:split]\n",
    "\n",
    "# Creating PT data samplers and loaders:\n",
    "train_sampler = SubsetRandomSampler(train_indices)\n",
    "valid_sampler = SubsetRandomSampler(val_indices)\n",
    "\n",
    "train_loader = data_utils.DataLoader(dataset, batch_size=batch_size, sampler=train_sampler)\n",
    "validation_loader = data_utils.DataLoader(dataset, batch_size=batch_size, sampler=valid_sampler)"
   ]
  },
  {
   "cell_type": "markdown",
   "metadata": {},
   "source": [
    "### Define neural network, optimizer, and loss objects"
   ]
  },
  {
   "cell_type": "code",
   "execution_count": 111,
   "metadata": {},
   "outputs": [],
   "source": [
    "n_in = all_X.shape[1]\n",
    "n_h = 512\n",
    "n_out = 3\n",
    "model = nn.Sequential(nn.Linear(n_in, n_h), \n",
    "                      nn.ReLU(), \n",
    "                      nn.Linear(n_h, n_out), \n",
    "                      nn.Softmax(dim=1))\n",
    "\n",
    "optimizer = optim.SGD(params=model.parameters(), lr=0.5, momentum=0.9)\n",
    "criterion = nn.CrossEntropyLoss()#reduction=False)"
   ]
  },
  {
   "cell_type": "markdown",
   "metadata": {},
   "source": [
    "### Training loop"
   ]
  },
  {
   "cell_type": "code",
   "execution_count": 21,
   "metadata": {},
   "outputs": [
    {
     "name": "stdout",
     "output_type": "stream",
     "text": [
      "epoch:  0 batch:  0  loss:  1.0206522941589355\n",
      "epoch:  0 batch:  1  loss:  1.0969254970550537\n",
      "epoch:  0 batch:  2  loss:  1.0500922203063965\n",
      "epoch:  0 batch:  3  loss:  1.142055630683899\n",
      "epoch:  0 batch:  4  loss:  1.0797786712646484\n",
      "epoch:  0 batch:  5  loss:  1.161199688911438\n",
      "epoch:  0 batch:  6  loss:  1.136264681816101\n",
      "epoch:  0 batch:  7  loss:  1.181401014328003\n",
      "epoch:  0 batch:  8  loss:  1.1114013195037842\n",
      "epoch:  0 batch:  9  loss:  1.081444263458252\n",
      "epoch:  0 batch:  10  loss:  1.1914401054382324\n",
      "epoch:  0 batch:  11  loss:  1.0814369916915894\n",
      "epoch:  0 batch:  12  loss:  1.0129854679107666\n",
      "epoch:  1 batch:  0  loss:  1.062666893005371\n",
      "epoch:  1 batch:  1  loss:  1.1514427661895752\n",
      "epoch:  1 batch:  2  loss:  1.121444821357727\n",
      "epoch:  1 batch:  3  loss:  1.0621634721755981\n",
      "epoch:  1 batch:  4  loss:  1.0714095830917358\n",
      "epoch:  1 batch:  5  loss:  1.1414449214935303\n",
      "epoch:  1 batch:  6  loss:  1.0814436674118042\n",
      "epoch:  1 batch:  7  loss:  1.0214449167251587\n",
      "epoch:  1 batch:  8  loss:  1.2014236450195312\n",
      "epoch:  1 batch:  9  loss:  1.191444754600525\n",
      "epoch:  1 batch:  10  loss:  1.1314444541931152\n",
      "epoch:  1 batch:  11  loss:  1.1314423084259033\n",
      "epoch:  1 batch:  12  loss:  1.0386229753494263\n",
      "epoch:  2 batch:  0  loss:  1.2114442586898804\n",
      "epoch:  2 batch:  1  loss:  1.0614445209503174\n",
      "epoch:  2 batch:  2  loss:  1.1414449214935303\n",
      "epoch:  2 batch:  3  loss:  1.1615971326828003\n",
      "epoch:  2 batch:  4  loss:  1.0314449071884155\n",
      "epoch:  2 batch:  5  loss:  1.061444878578186\n",
      "epoch:  2 batch:  6  loss:  1.1114338636398315\n",
      "epoch:  2 batch:  7  loss:  1.1314445734024048\n",
      "epoch:  2 batch:  8  loss:  1.131435513496399\n",
      "epoch:  2 batch:  9  loss:  1.0916000604629517\n",
      "epoch:  2 batch:  10  loss:  1.1114153861999512\n",
      "epoch:  2 batch:  11  loss:  1.1314448118209839\n",
      "epoch:  2 batch:  12  loss:  1.0129833221435547\n",
      "epoch:  3 batch:  0  loss:  1.091444969177246\n",
      "epoch:  3 batch:  1  loss:  1.1814438104629517\n",
      "epoch:  3 batch:  2  loss:  1.151444911956787\n",
      "epoch:  3 batch:  3  loss:  1.2415634393692017\n",
      "epoch:  3 batch:  4  loss:  1.0714449882507324\n",
      "epoch:  3 batch:  5  loss:  1.0714449882507324\n",
      "epoch:  3 batch:  6  loss:  1.0114449262619019\n",
      "epoch:  3 batch:  7  loss:  1.0914363861083984\n",
      "epoch:  3 batch:  8  loss:  1.0514448881149292\n",
      "epoch:  3 batch:  9  loss:  1.1515288352966309\n",
      "epoch:  3 batch:  10  loss:  1.1014204025268555\n",
      "epoch:  3 batch:  11  loss:  1.1014446020126343\n",
      "epoch:  3 batch:  12  loss:  1.1668294668197632\n",
      "epoch:  4 batch:  0  loss:  1.161444902420044\n",
      "epoch:  4 batch:  1  loss:  1.1414448022842407\n",
      "epoch:  4 batch:  2  loss:  1.0714449882507324\n",
      "epoch:  4 batch:  3  loss:  1.1914211511611938\n",
      "epoch:  4 batch:  4  loss:  1.131443977355957\n",
      "epoch:  4 batch:  5  loss:  1.1114377975463867\n",
      "epoch:  4 batch:  6  loss:  1.0514448881149292\n",
      "epoch:  4 batch:  7  loss:  1.1214449405670166\n",
      "epoch:  4 batch:  8  loss:  1.1516188383102417\n",
      "epoch:  4 batch:  9  loss:  1.0714449882507324\n",
      "epoch:  4 batch:  10  loss:  1.0314370393753052\n",
      "epoch:  4 batch:  11  loss:  1.161444902420044\n",
      "epoch:  4 batch:  12  loss:  0.9617007374763489\n",
      "epoch:  5 batch:  0  loss:  1.0814449787139893\n",
      "epoch:  5 batch:  1  loss:  1.1214210987091064\n",
      "epoch:  5 batch:  2  loss:  1.1614445447921753\n",
      "epoch:  5 batch:  3  loss:  1.0715144872665405\n",
      "epoch:  5 batch:  4  loss:  1.1314449310302734\n",
      "epoch:  5 batch:  5  loss:  1.0814449787139893\n",
      "epoch:  5 batch:  6  loss:  1.121527910232544\n",
      "epoch:  5 batch:  7  loss:  1.2014449834823608\n",
      "epoch:  5 batch:  8  loss:  1.1014448404312134\n",
      "epoch:  5 batch:  9  loss:  1.1114449501037598\n",
      "epoch:  5 batch:  10  loss:  1.1814448833465576\n",
      "epoch:  5 batch:  11  loss:  1.051438331604004\n",
      "epoch:  5 batch:  12  loss:  0.9104191660881042\n",
      "epoch:  6 batch:  0  loss:  1.0815303325653076\n",
      "epoch:  6 batch:  1  loss:  1.1814440488815308\n",
      "epoch:  6 batch:  2  loss:  1.06142258644104\n",
      "epoch:  6 batch:  3  loss:  1.101444959640503\n",
      "epoch:  6 batch:  4  loss:  1.0714447498321533\n",
      "epoch:  6 batch:  5  loss:  1.1014374494552612\n",
      "epoch:  6 batch:  6  loss:  1.061444878578186\n",
      "epoch:  6 batch:  7  loss:  1.1215070486068726\n",
      "epoch:  6 batch:  8  loss:  1.151444911956787\n",
      "epoch:  6 batch:  9  loss:  1.151444911956787\n",
      "epoch:  6 batch:  10  loss:  1.1914385557174683\n",
      "epoch:  6 batch:  11  loss:  1.0814449787139893\n",
      "epoch:  6 batch:  12  loss:  1.0642653703689575\n",
      "epoch:  7 batch:  0  loss:  1.1214232444763184\n",
      "epoch:  7 batch:  1  loss:  1.1714448928833008\n",
      "epoch:  7 batch:  2  loss:  1.1114386320114136\n",
      "epoch:  7 batch:  3  loss:  1.1314449310302734\n",
      "epoch:  7 batch:  4  loss:  1.0814448595046997\n",
      "epoch:  7 batch:  5  loss:  1.061444878578186\n",
      "epoch:  7 batch:  6  loss:  1.101444959640503\n",
      "epoch:  7 batch:  7  loss:  1.101444959640503\n",
      "epoch:  7 batch:  8  loss:  1.091444969177246\n",
      "epoch:  7 batch:  9  loss:  1.2314448356628418\n",
      "epoch:  7 batch:  10  loss:  1.091436743736267\n",
      "epoch:  7 batch:  11  loss:  1.0815802812576294\n",
      "epoch:  7 batch:  12  loss:  1.0129833221435547\n",
      "epoch:  8 batch:  0  loss:  1.1414449214935303\n",
      "epoch:  8 batch:  1  loss:  1.0714449882507324\n",
      "epoch:  8 batch:  2  loss:  1.1315020322799683\n",
      "epoch:  8 batch:  3  loss:  1.1714386940002441\n",
      "epoch:  8 batch:  4  loss:  1.101444959640503\n",
      "epoch:  8 batch:  5  loss:  1.061444878578186\n",
      "epoch:  8 batch:  6  loss:  1.0915179252624512\n",
      "epoch:  8 batch:  7  loss:  1.161436915397644\n",
      "epoch:  8 batch:  8  loss:  1.0814235210418701\n",
      "epoch:  8 batch:  9  loss:  1.151444911956787\n",
      "epoch:  8 batch:  10  loss:  1.061444878578186\n",
      "epoch:  8 batch:  11  loss:  1.1214449405670166\n",
      "epoch:  8 batch:  12  loss:  1.0899064540863037\n",
      "epoch:  9 batch:  0  loss:  1.14143705368042\n",
      "epoch:  9 batch:  1  loss:  1.0814447402954102\n",
      "epoch:  9 batch:  2  loss:  1.1514918804168701\n",
      "epoch:  9 batch:  3  loss:  1.0915136337280273\n",
      "epoch:  9 batch:  4  loss:  1.151444911956787\n",
      "epoch:  9 batch:  5  loss:  1.151444911956787\n",
      "epoch:  9 batch:  6  loss:  1.1414449214935303\n",
      "epoch:  9 batch:  7  loss:  1.0514241456985474\n",
      "epoch:  9 batch:  8  loss:  1.1114449501037598\n",
      "epoch:  9 batch:  9  loss:  1.0814449787139893\n",
      "epoch:  9 batch:  10  loss:  1.091444730758667\n",
      "epoch:  9 batch:  11  loss:  1.061444878578186\n",
      "epoch:  9 batch:  12  loss:  1.1924705505371094\n",
      "epoch:  10 batch:  0  loss:  1.0414448976516724\n",
      "epoch:  10 batch:  1  loss:  1.1515097618103027\n",
      "epoch:  10 batch:  2  loss:  1.1114449501037598\n",
      "epoch:  10 batch:  3  loss:  1.1414449214935303\n",
      "epoch:  10 batch:  4  loss:  1.0214449167251587\n",
      "epoch:  10 batch:  5  loss:  1.111424207687378\n",
      "epoch:  10 batch:  6  loss:  1.1514441967010498\n",
      "epoch:  10 batch:  7  loss:  1.1114448308944702\n",
      "epoch:  10 batch:  8  loss:  1.0814449787139893\n",
      "epoch:  10 batch:  9  loss:  1.1614447832107544\n",
      "epoch:  10 batch:  10  loss:  1.1114380359649658\n",
      "epoch:  10 batch:  11  loss:  1.171487808227539\n",
      "epoch:  10 batch:  12  loss:  1.0386244058609009\n",
      "epoch:  11 batch:  0  loss:  1.1114380359649658\n",
      "epoch:  11 batch:  1  loss:  1.1714448928833008\n",
      "epoch:  11 batch:  2  loss:  1.1714448928833008\n",
      "epoch:  11 batch:  3  loss:  1.0715000629425049\n",
      "epoch:  11 batch:  4  loss:  1.101444959640503\n",
      "epoch:  11 batch:  5  loss:  1.0814449787139893\n",
      "epoch:  11 batch:  6  loss:  1.0814449787139893\n",
      "epoch:  11 batch:  7  loss:  1.0514440536499023\n",
      "epoch:  11 batch:  8  loss:  1.1414920091629028\n",
      "epoch:  11 batch:  9  loss:  1.1414448022842407\n",
      "epoch:  11 batch:  10  loss:  1.121424674987793\n",
      "epoch:  11 batch:  11  loss:  1.1214449405670166\n",
      "epoch:  11 batch:  12  loss:  1.0386244058609009\n",
      "epoch:  12 batch:  0  loss:  1.0314449071884155\n",
      "epoch:  12 batch:  1  loss:  1.1414906978607178\n",
      "epoch:  12 batch:  2  loss:  1.1214449405670166\n",
      "epoch:  12 batch:  3  loss:  1.0915029048919678\n",
      "epoch:  12 batch:  4  loss:  1.1314449310302734\n",
      "epoch:  12 batch:  5  loss:  1.1214449405670166\n",
      "epoch:  12 batch:  6  loss:  1.1614381074905396\n",
      "epoch:  12 batch:  7  loss:  1.1414248943328857\n",
      "epoch:  12 batch:  8  loss:  1.0914390087127686\n",
      "epoch:  12 batch:  9  loss:  1.0814441442489624\n",
      "epoch:  12 batch:  10  loss:  1.151444911956787\n",
      "epoch:  12 batch:  11  loss:  1.0814449787139893\n",
      "epoch:  12 batch:  12  loss:  1.0899064540863037\n",
      "epoch:  13 batch:  0  loss:  1.1714448928833008\n",
      "epoch:  13 batch:  1  loss:  1.151444911956787\n",
      "epoch:  13 batch:  2  loss:  1.1314449310302734\n",
      "epoch:  13 batch:  3  loss:  1.151444911956787\n",
      "epoch:  13 batch:  4  loss:  1.0414814949035645\n",
      "epoch:  13 batch:  5  loss:  1.1514389514923096\n",
      "epoch:  13 batch:  6  loss:  1.1114250421524048\n",
      "epoch:  13 batch:  7  loss:  1.1114449501037598\n",
      "epoch:  13 batch:  8  loss:  1.1114989519119263\n",
      "epoch:  13 batch:  9  loss:  1.091444969177246\n",
      "epoch:  13 batch:  10  loss:  1.061444878578186\n",
      "epoch:  13 batch:  11  loss:  1.091444969177246\n",
      "epoch:  13 batch:  12  loss:  1.0129833221435547\n",
      "epoch:  14 batch:  0  loss:  1.0714449882507324\n",
      "epoch:  14 batch:  1  loss:  1.0414448976516724\n",
      "epoch:  14 batch:  2  loss:  1.1414449214935303\n",
      "epoch:  14 batch:  3  loss:  1.1114448308944702\n",
      "epoch:  14 batch:  4  loss:  1.0914185047149658\n",
      "epoch:  14 batch:  5  loss:  1.1214805841445923\n",
      "epoch:  14 batch:  6  loss:  1.1314449310302734\n",
      "epoch:  14 batch:  7  loss:  1.1114448308944702\n",
      "epoch:  14 batch:  8  loss:  1.1314449310302734\n",
      "epoch:  14 batch:  9  loss:  1.1214449405670166\n",
      "epoch:  14 batch:  10  loss:  1.1714966297149658\n",
      "epoch:  14 batch:  11  loss:  1.0714449882507324\n",
      "epoch:  14 batch:  12  loss:  1.1668294668197632\n",
      "epoch:  15 batch:  0  loss:  1.1314448118209839\n",
      "epoch:  15 batch:  1  loss:  1.1214392185211182\n",
      "epoch:  15 batch:  2  loss:  1.1314852237701416\n",
      "epoch:  15 batch:  3  loss:  1.1314449310302734\n",
      "epoch:  15 batch:  4  loss:  1.151444911956787\n",
      "epoch:  15 batch:  5  loss:  1.0414448976516724\n",
      "epoch:  15 batch:  6  loss:  1.0214253664016724\n",
      "epoch:  15 batch:  7  loss:  1.1314448118209839\n",
      "epoch:  15 batch:  8  loss:  1.1414449214935303\n",
      "epoch:  15 batch:  9  loss:  1.0314383506774902\n",
      "epoch:  15 batch:  10  loss:  1.2114449739456177\n",
      "epoch:  15 batch:  11  loss:  1.1214944124221802\n",
      "epoch:  15 batch:  12  loss:  1.0386240482330322\n",
      "epoch:  16 batch:  0  loss:  1.1614253520965576\n",
      "epoch:  16 batch:  1  loss:  1.041477918624878\n",
      "epoch:  16 batch:  2  loss:  1.1414449214935303\n",
      "epoch:  16 batch:  3  loss:  1.0714449882507324\n",
      "epoch:  16 batch:  4  loss:  1.0514938831329346\n",
      "epoch:  16 batch:  5  loss:  1.1214449405670166\n",
      "epoch:  16 batch:  6  loss:  1.061444878578186\n",
      "epoch:  16 batch:  7  loss:  1.0714448690414429\n",
      "epoch:  16 batch:  8  loss:  1.1814448833465576\n",
      "epoch:  16 batch:  9  loss:  1.101444959640503\n",
      "epoch:  16 batch:  10  loss:  1.1414377689361572\n",
      "epoch:  16 batch:  11  loss:  1.161444902420044\n",
      "epoch:  16 batch:  12  loss:  1.1924704313278198\n",
      "epoch:  17 batch:  0  loss:  1.1314448118209839\n",
      "epoch:  17 batch:  1  loss:  1.1714448928833008\n",
      "epoch:  17 batch:  2  loss:  1.1314449310302734\n",
      "epoch:  17 batch:  3  loss:  1.1414449214935303\n",
      "epoch:  17 batch:  4  loss:  1.1214914321899414\n",
      "epoch:  17 batch:  5  loss:  1.1314449310302734\n",
      "epoch:  17 batch:  6  loss:  1.0914818048477173\n",
      "epoch:  17 batch:  7  loss:  1.0314441919326782\n",
      "epoch:  17 batch:  8  loss:  1.1014384031295776\n",
      "epoch:  17 batch:  9  loss:  1.1214393377304077\n",
      "epoch:  17 batch:  10  loss:  1.1214258670806885\n",
      "epoch:  17 batch:  11  loss:  1.1114449501037598\n",
      "epoch:  17 batch:  12  loss:  0.9360601902008057\n",
      "epoch:  18 batch:  0  loss:  1.0914384126663208\n",
      "epoch:  18 batch:  1  loss:  1.0114449262619019\n",
      "epoch:  18 batch:  2  loss:  1.151444911956787\n",
      "epoch:  18 batch:  3  loss:  1.1214449405670166\n",
      "epoch:  18 batch:  4  loss:  1.161461591720581\n",
      "epoch:  18 batch:  5  loss:  1.1414449214935303\n",
      "epoch:  18 batch:  6  loss:  1.1214449405670166\n",
      "epoch:  18 batch:  7  loss:  1.061444878578186\n",
      "epoch:  18 batch:  8  loss:  1.1214449405670166\n",
      "epoch:  18 batch:  9  loss:  1.1414440870285034\n",
      "epoch:  18 batch:  10  loss:  1.2014893293380737\n",
      "epoch:  18 batch:  11  loss:  1.041439414024353\n",
      "epoch:  18 batch:  12  loss:  1.0386244058609009\n",
      "epoch:  19 batch:  0  loss:  1.2014799118041992\n",
      "epoch:  19 batch:  1  loss:  1.1314383745193481\n",
      "epoch:  19 batch:  2  loss:  1.101444959640503\n",
      "epoch:  19 batch:  3  loss:  1.0914883613586426\n",
      "epoch:  19 batch:  4  loss:  1.0814449787139893\n",
      "epoch:  19 batch:  5  loss:  1.0514392852783203\n",
      "epoch:  19 batch:  6  loss:  1.091444969177246\n",
      "epoch:  19 batch:  7  loss:  1.1214449405670166\n",
      "epoch:  19 batch:  8  loss:  1.101444959640503\n",
      "epoch:  19 batch:  9  loss:  1.061426043510437\n",
      "epoch:  19 batch:  10  loss:  1.141444206237793\n",
      "epoch:  19 batch:  11  loss:  1.1214449405670166\n",
      "epoch:  19 batch:  12  loss:  1.218111276626587\n"
     ]
    }
   ],
   "source": [
    "epochs = 20\n",
    "\n",
    "for epoch in range(epochs):\n",
    "    for batch_index, data in enumerate(train_loader):\n",
    "        local_batch, local_labels = data\n",
    "        # Forward Propagation\n",
    "        y_pred = model(local_batch.float())\n",
    "        # Compute and print loss\n",
    "        loss = criterion(y_pred, local_labels.long())\n",
    "        print('epoch: ', epoch ,'batch: ', batch_index, ' loss: ', loss.item())\n",
    "        # Zero the gradients\n",
    "        optimizer.zero_grad()\n",
    "\n",
    "        # perform a backward pass (backpropagation)\n",
    "        loss.backward()\n",
    "\n",
    "        # Update the parameters\n",
    "        optimizer.step()\n",
    "#     with torch.set_grad_enabled(False):\n",
    "#         for local_batch, local_labels in validation_loader:\n",
    "#             y_pred = model(local_batch.float())\n",
    "#             print(\"in validation block of code\")"
   ]
  },
  {
   "cell_type": "markdown",
   "metadata": {},
   "source": [
    "### Keras implementation"
   ]
  },
  {
   "cell_type": "code",
   "execution_count": 142,
   "metadata": {},
   "outputs": [],
   "source": [
    "kmodel = Sequential()\n",
    "kmodel.add(Dense(n_h, input_dim=n_in, activation='relu'))\n",
    "kmodel.add(Dropout(0.6, name='dropout_1'))\n",
    "kmodel.add(Dense(n_out, activation='softmax'))"
   ]
  },
  {
   "cell_type": "code",
   "execution_count": 143,
   "metadata": {},
   "outputs": [],
   "source": [
    "my_met = mm.Metrics()"
   ]
  },
  {
   "cell_type": "code",
   "execution_count": 144,
   "metadata": {},
   "outputs": [],
   "source": [
    "kmodel.compile(loss='categorical_crossentropy', optimizer='adam', metrics=['accuracy'])#, callbacks=[my_met])"
   ]
  },
  {
   "cell_type": "code",
   "execution_count": 145,
   "metadata": {},
   "outputs": [
    {
     "name": "stdout",
     "output_type": "stream",
     "text": [
      "Train on 1117 samples, validate on 198 samples\n",
      "Epoch 1/5\n",
      "1117/1117 [==============================] - 2s 2ms/step - loss: 1.1062 - acc: 0.4056 - val_loss: 1.0612 - val_acc: 0.4242\n",
      "Epoch 2/5\n",
      "1117/1117 [==============================] - 2s 1ms/step - loss: 1.0291 - acc: 0.4700 - val_loss: 1.0726 - val_acc: 0.4192\n",
      "Epoch 3/5\n",
      "1117/1117 [==============================] - 2s 1ms/step - loss: 1.0025 - acc: 0.5004 - val_loss: 1.0394 - val_acc: 0.4444\n",
      "Epoch 4/5\n",
      "1117/1117 [==============================] - 2s 1ms/step - loss: 0.9954 - acc: 0.5175 - val_loss: 0.9985 - val_acc: 0.4545\n",
      "Epoch 5/5\n",
      "1117/1117 [==============================] - 2s 1ms/step - loss: 0.9676 - acc: 0.5255 - val_loss: 0.9754 - val_acc: 0.4899\n"
     ]
    }
   ],
   "source": [
    "history = kmodel.fit(X_train, y_train, validation_split=.15, epochs=5, batch_size=30)"
   ]
  },
  {
   "cell_type": "code",
   "execution_count": 146,
   "metadata": {},
   "outputs": [
    {
     "name": "stdout",
     "output_type": "stream",
     "text": [
      "233/233 [==============================] - 0s 275us/step\n",
      "\n",
      "acc: 50.21%\n"
     ]
    }
   ],
   "source": [
    "# evaluate the model\n",
    "scores = kmodel.evaluate(X_test, y_test)\n",
    "print(\"\\n%s: %.2f%%\" % (kmodel.metrics_names[1], scores[1]*100))"
   ]
  },
  {
   "cell_type": "code",
   "execution_count": 147,
   "metadata": {},
   "outputs": [
    {
     "data": {
      "image/png": "[encoded data removed]",
      "text/plain": [
       "<matplotlib.figure.Figure at 0x1a6d020fd0>"
      ]
     },
     "metadata": {},
     "output_type": "display_data"
    }
   ],
   "source": [
    "# summarize history for accuracy\n",
    "plt.plot(history.history['acc'])\n",
    "plt.plot(history.history['val_acc'])\n",
    "plt.title('model accuracy')\n",
    "plt.ylabel('accuracy')\n",
    "plt.xlabel('epoch')\n",
    "plt.legend(['train', 'test'], loc='upper left')\n",
    "plt.show()"
   ]
  },
  {
   "cell_type": "code",
   "execution_count": null,
   "metadata": {},
   "outputs": [],
   "source": []
  }
 ],
 "metadata": {
  "kernelspec": {
   "display_name": "Python [conda env:hack]",
   "language": "python",
   "name": "conda-env-hack-py"
  },
  "language_info": {
   "codemirror_mode": {
    "name": "ipython",
    "version": 3
   },
   "file_extension": ".py",
   "mimetype": "text/x-python",
   "name": "python",
   "nbconvert_exporter": "python",
   "pygments_lexer": "ipython3",
   "version": "3.5.2"
  }
 },
 "nbformat": 4,
 "nbformat_minor": 2
}
